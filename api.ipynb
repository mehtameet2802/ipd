{
  "cells": [
    {
      "cell_type": "code",
      "execution_count": 1,
      "metadata": {
        "id": "T3YFO581evR4"
      },
      "outputs": [],
      "source": [
        "import pandas as pd\n",
        "import numpy as np\n",
        "import pickle\n",
        "from sklearn.model_selection import train_test_split\n",
        "from sklearn.ensemble import RandomForestClassifier\n",
        "from sklearn.metrics import accuracy_score\n",
        "import bz2file as bz2\n",
        "import pickle"
      ]
    },
    {
      "cell_type": "code",
      "execution_count": 2,
      "metadata": {
        "colab": {
          "base_uri": "https://localhost:8080/",
          "height": 424
        },
        "id": "0A4nahosezFB",
        "outputId": "73d660cb-33b9-4aab-ecb8-4bb12923d104"
      },
      "outputs": [
        {
          "data": {
            "text/html": [
              "<div>\n",
              "<style scoped>\n",
              "    .dataframe tbody tr th:only-of-type {\n",
              "        vertical-align: middle;\n",
              "    }\n",
              "\n",
              "    .dataframe tbody tr th {\n",
              "        vertical-align: top;\n",
              "    }\n",
              "\n",
              "    .dataframe thead th {\n",
              "        text-align: right;\n",
              "    }\n",
              "</style>\n",
              "<table border=\"1\" class=\"dataframe\">\n",
              "  <thead>\n",
              "    <tr style=\"text-align: right;\">\n",
              "      <th></th>\n",
              "      <th>N</th>\n",
              "      <th>P</th>\n",
              "      <th>K</th>\n",
              "      <th>S</th>\n",
              "      <th>Fe</th>\n",
              "      <th>Zn</th>\n",
              "      <th>temperature</th>\n",
              "      <th>humidity</th>\n",
              "      <th>ph</th>\n",
              "      <th>rainfall</th>\n",
              "      <th>label</th>\n",
              "    </tr>\n",
              "  </thead>\n",
              "  <tbody>\n",
              "    <tr>\n",
              "      <th>0</th>\n",
              "      <td>120</td>\n",
              "      <td>87</td>\n",
              "      <td>22</td>\n",
              "      <td>24</td>\n",
              "      <td>1</td>\n",
              "      <td>39</td>\n",
              "      <td>22.353398</td>\n",
              "      <td>77.264643</td>\n",
              "      <td>5.882813</td>\n",
              "      <td>103.201597</td>\n",
              "      <td>rice</td>\n",
              "    </tr>\n",
              "    <tr>\n",
              "      <th>1</th>\n",
              "      <td>119</td>\n",
              "      <td>57</td>\n",
              "      <td>41</td>\n",
              "      <td>45</td>\n",
              "      <td>68</td>\n",
              "      <td>33</td>\n",
              "      <td>23.188260</td>\n",
              "      <td>77.807440</td>\n",
              "      <td>5.401141</td>\n",
              "      <td>116.288489</td>\n",
              "      <td>maize</td>\n",
              "    </tr>\n",
              "    <tr>\n",
              "      <th>2</th>\n",
              "      <td>113</td>\n",
              "      <td>54</td>\n",
              "      <td>48</td>\n",
              "      <td>5</td>\n",
              "      <td>11</td>\n",
              "      <td>30</td>\n",
              "      <td>18.594445</td>\n",
              "      <td>14.258040</td>\n",
              "      <td>7.113361</td>\n",
              "      <td>80.839283</td>\n",
              "      <td>chickpea</td>\n",
              "    </tr>\n",
              "    <tr>\n",
              "      <th>3</th>\n",
              "      <td>0</td>\n",
              "      <td>84</td>\n",
              "      <td>33</td>\n",
              "      <td>8</td>\n",
              "      <td>13</td>\n",
              "      <td>79</td>\n",
              "      <td>15.053746</td>\n",
              "      <td>64.935381</td>\n",
              "      <td>7.318854</td>\n",
              "      <td>38.844471</td>\n",
              "      <td>lentil</td>\n",
              "    </tr>\n",
              "    <tr>\n",
              "      <th>4</th>\n",
              "      <td>33</td>\n",
              "      <td>44</td>\n",
              "      <td>30</td>\n",
              "      <td>19</td>\n",
              "      <td>5</td>\n",
              "      <td>2</td>\n",
              "      <td>19.983440</td>\n",
              "      <td>88.033583</td>\n",
              "      <td>6.978892</td>\n",
              "      <td>97.457283</td>\n",
              "      <td>pomegranate</td>\n",
              "    </tr>\n",
              "    <tr>\n",
              "      <th>...</th>\n",
              "      <td>...</td>\n",
              "      <td>...</td>\n",
              "      <td>...</td>\n",
              "      <td>...</td>\n",
              "      <td>...</td>\n",
              "      <td>...</td>\n",
              "      <td>...</td>\n",
              "      <td>...</td>\n",
              "      <td>...</td>\n",
              "      <td>...</td>\n",
              "      <td>...</td>\n",
              "    </tr>\n",
              "    <tr>\n",
              "      <th>307195</th>\n",
              "      <td>2</td>\n",
              "      <td>92</td>\n",
              "      <td>36</td>\n",
              "      <td>52</td>\n",
              "      <td>45</td>\n",
              "      <td>51</td>\n",
              "      <td>20.890681</td>\n",
              "      <td>77.532683</td>\n",
              "      <td>5.790386</td>\n",
              "      <td>52.284005</td>\n",
              "      <td>grapes</td>\n",
              "    </tr>\n",
              "    <tr>\n",
              "      <th>307196</th>\n",
              "      <td>37</td>\n",
              "      <td>35</td>\n",
              "      <td>205</td>\n",
              "      <td>25</td>\n",
              "      <td>12</td>\n",
              "      <td>41</td>\n",
              "      <td>18.825376</td>\n",
              "      <td>90.874273</td>\n",
              "      <td>7.625115</td>\n",
              "      <td>110.445908</td>\n",
              "      <td>apple</td>\n",
              "    </tr>\n",
              "    <tr>\n",
              "      <th>307197</th>\n",
              "      <td>47</td>\n",
              "      <td>39</td>\n",
              "      <td>29</td>\n",
              "      <td>45</td>\n",
              "      <td>53</td>\n",
              "      <td>21</td>\n",
              "      <td>20.940993</td>\n",
              "      <td>85.705859</td>\n",
              "      <td>6.300294</td>\n",
              "      <td>96.960491</td>\n",
              "      <td>orange</td>\n",
              "    </tr>\n",
              "    <tr>\n",
              "      <th>307198</th>\n",
              "      <td>19</td>\n",
              "      <td>37</td>\n",
              "      <td>34</td>\n",
              "      <td>4</td>\n",
              "      <td>113</td>\n",
              "      <td>34</td>\n",
              "      <td>21.839642</td>\n",
              "      <td>76.740364</td>\n",
              "      <td>6.132994</td>\n",
              "      <td>97.279923</td>\n",
              "      <td>cotton</td>\n",
              "    </tr>\n",
              "    <tr>\n",
              "      <th>307199</th>\n",
              "      <td>92</td>\n",
              "      <td>66</td>\n",
              "      <td>36</td>\n",
              "      <td>21</td>\n",
              "      <td>2</td>\n",
              "      <td>1</td>\n",
              "      <td>24.293270</td>\n",
              "      <td>80.414351</td>\n",
              "      <td>5.509501</td>\n",
              "      <td>167.138149</td>\n",
              "      <td>coffee</td>\n",
              "    </tr>\n",
              "  </tbody>\n",
              "</table>\n",
              "<p>307200 rows × 11 columns</p>\n",
              "</div>"
            ],
            "text/plain": [
              "          N   P    K   S   Fe  Zn  temperature   humidity        ph  \\\n",
              "0       120  87   22  24    1  39    22.353398  77.264643  5.882813   \n",
              "1       119  57   41  45   68  33    23.188260  77.807440  5.401141   \n",
              "2       113  54   48   5   11  30    18.594445  14.258040  7.113361   \n",
              "3         0  84   33   8   13  79    15.053746  64.935381  7.318854   \n",
              "4        33  44   30  19    5   2    19.983440  88.033583  6.978892   \n",
              "...     ...  ..  ...  ..  ...  ..          ...        ...       ...   \n",
              "307195    2  92   36  52   45  51    20.890681  77.532683  5.790386   \n",
              "307196   37  35  205  25   12  41    18.825376  90.874273  7.625115   \n",
              "307197   47  39   29  45   53  21    20.940993  85.705859  6.300294   \n",
              "307198   19  37   34   4  113  34    21.839642  76.740364  6.132994   \n",
              "307199   92  66   36  21    2   1    24.293270  80.414351  5.509501   \n",
              "\n",
              "          rainfall        label  \n",
              "0       103.201597         rice  \n",
              "1       116.288489        maize  \n",
              "2        80.839283     chickpea  \n",
              "3        38.844471       lentil  \n",
              "4        97.457283  pomegranate  \n",
              "...            ...          ...  \n",
              "307195   52.284005       grapes  \n",
              "307196  110.445908        apple  \n",
              "307197   96.960491       orange  \n",
              "307198   97.279923       cotton  \n",
              "307199  167.138149       coffee  \n",
              "\n",
              "[307200 rows x 11 columns]"
            ]
          },
          "execution_count": 2,
          "metadata": {},
          "output_type": "execute_result"
        }
      ],
      "source": [
        "df = pd.read_csv('data307200.csv')\n",
        "df = df.iloc[:,1:]\n",
        "df"
      ]
    },
    {
      "cell_type": "code",
      "execution_count": 3,
      "metadata": {
        "id": "DZMd-OKZe6S9"
      },
      "outputs": [],
      "source": [
        "X = df.iloc[:,:-1]\n",
        "y = df.iloc[:,-1]\n",
        "X_train,X_test,y_train,y_test=train_test_split(X,y,test_size=0.2,random_state=0)"
      ]
    },
    {
      "cell_type": "code",
      "execution_count": 4,
      "metadata": {
        "id": "gW8EXwFye8nv"
      },
      "outputs": [],
      "source": [
        "rf = RandomForestClassifier()\n",
        "rf.fit(X_train,y_train)\n",
        "y_pred=rf.predict(X_test)\n",
        "score=accuracy_score(y_test,y_pred)"
      ]
    },
    {
      "cell_type": "code",
      "execution_count": 5,
      "metadata": {
        "colab": {
          "base_uri": "https://localhost:8080/"
        },
        "id": "vxaqWVU2fptb",
        "outputId": "327aad72-5a14-4150-f91b-c6f451047b14"
      },
      "outputs": [
        {
          "data": {
            "text/plain": [
              "0.63408203125"
            ]
          },
          "execution_count": 5,
          "metadata": {},
          "output_type": "execute_result"
        }
      ],
      "source": [
        "score"
      ]
    },
    {
      "cell_type": "code",
      "execution_count": 8,
      "metadata": {
        "id": "_70FzxT7gCV7"
      },
      "outputs": [],
      "source": [
        "pickle_out = open(\"CropRecommendation.pkl\",\"wb\")\n",
        "pickle.dump(rf, pickle_out)\n",
        "pickle_out.close()"
      ]
    },
    {
      "cell_type": "code",
      "execution_count": 6,
      "metadata": {
        "colab": {
          "base_uri": "https://localhost:8080/"
        },
        "id": "l51AY89EhX3p",
        "outputId": "e2b2d0f9-ea57-4522-9523-ff98bbefe4f8"
      },
      "outputs": [
        {
          "name": "stderr",
          "output_type": "stream",
          "text": [
            "c:\\Users\\meetm\\AppData\\Local\\Programs\\Python\\Python39\\lib\\site-packages\\sklearn\\base.py:409: UserWarning: X does not have valid feature names, but RandomForestClassifier was fitted with feature names\n",
            "  warnings.warn(\n"
          ]
        },
        {
          "data": {
            "text/plain": [
              "array(['pomegranate'], dtype=object)"
            ]
          },
          "execution_count": 6,
          "metadata": {},
          "output_type": "execute_result"
        }
      ],
      "source": [
        "rf.predict([[33.0,44.0,30.0,19.0,5.0,2.0,20.0,88.0,67.0,97.0]])"
      ]
    },
    {
      "cell_type": "code",
      "execution_count": 8,
      "metadata": {},
      "outputs": [],
      "source": [
        "def compressed_pickle(title, data):\n",
        "    with bz2.BZ2File(title + \".pbz2\", \"w\") as f:\n",
        "        pickle.dump(data, f)"
      ]
    },
    {
      "cell_type": "code",
      "execution_count": 9,
      "metadata": {},
      "outputs": [],
      "source": [
        "compressed_pickle(\"Recommendation\", rf)"
      ]
    }
  ],
  "metadata": {
    "colab": {
      "provenance": []
    },
    "kernelspec": {
      "display_name": "Python 3",
      "language": "python",
      "name": "python3"
    },
    "language_info": {
      "codemirror_mode": {
        "name": "ipython",
        "version": 3
      },
      "file_extension": ".py",
      "mimetype": "text/x-python",
      "name": "python",
      "nbconvert_exporter": "python",
      "pygments_lexer": "ipython3",
      "version": "3.10.9 (tags/v3.10.9:1dd9be6, Dec  6 2022, 20:01:21) [MSC v.1934 64 bit (AMD64)]"
    },
    "vscode": {
      "interpreter": {
        "hash": "4124a49af20b7b13f287f92cde27bf5a892309e9861860fad624a96f8d1a09d6"
      }
    }
  },
  "nbformat": 4,
  "nbformat_minor": 0
}
